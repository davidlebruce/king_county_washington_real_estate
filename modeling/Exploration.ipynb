{
 "cells": [
  {
   "cell_type": "markdown",
   "metadata": {},
   "source": [
    "# Exploration\n",
    "\n",
    "This notebook is used for trying out different models and feature engineering."
   ]
  },
  {
   "cell_type": "code",
   "execution_count": 1,
   "metadata": {},
   "outputs": [],
   "source": [
    "import pandas as pd\n",
    "import numpy as np\n",
    "import matplotlib.pyplot as plt\n",
    "%matplotlib inline\n",
    "import seaborn as sns\n",
    "from scipy import stats\n",
    "import random\n",
    "\n",
    "from statsmodels.formula.api import ols\n",
    "from sklearn import linear_model\n",
    "from sklearn.linear_model import LinearRegression\n",
    "from sklearn.model_selection import train_test_split\n",
    "from sklearn import metrics\n",
    "from sklearn.preprocessing import PolynomialFeatures\n",
    "from sklearn.preprocessing import StandardScaler\n",
    "from sklearn.feature_selection import SelectKBest, f_regression,mutual_info_regression\n",
    "\n",
    "pd.pandas.set_option('display.max_columns', None)"
   ]
  },
  {
   "cell_type": "code",
   "execution_count": 2,
   "metadata": {},
   "outputs": [],
   "source": [
    "data = pd.read_csv('../kc_house_data_train.csv')\n",
    "data.drop(columns=['Unnamed: 0', 'id'], inplace=True)"
   ]
  },
  {
   "cell_type": "code",
   "execution_count": 3,
   "metadata": {},
   "outputs": [],
   "source": [
    "# linear regression in python by Dannar Mawardi https://towardsdatascience.com/linear-regression-in-python-9a1f5f000606"
   ]
  },
  {
   "cell_type": "markdown",
   "metadata": {},
   "source": [
    "# First Step: Visualization"
   ]
  },
  {
   "cell_type": "markdown",
   "metadata": {},
   "source": [
    "## Pairplot of continuous variables' relationship to 'price'"
   ]
  },
  {
   "cell_type": "code",
   "execution_count": 4,
   "metadata": {},
   "outputs": [],
   "source": [
    "# sns.pairplot(data=data, x_vars= ['bedrooms', 'bathrooms', 'sqft_living',\n",
    "#                                  'sqft_lot', 'sqft_above', 'sqft_basement', \n",
    "#                                  'yr_built', 'sqft_living15', \n",
    "#                                  'sqft_lot15'], \n",
    "#             y_vars='price', kind='reg')"
   ]
  },
  {
   "cell_type": "markdown",
   "metadata": {},
   "source": [
    "## Pairplot of categorical variables' relationship to 'price'"
   ]
  },
  {
   "cell_type": "code",
   "execution_count": 5,
   "metadata": {},
   "outputs": [],
   "source": [
    "# sns.pairplot(data=data, x_vars= ['floors', 'waterfront', \n",
    "#                                  'view', 'condition', 'grade',\n",
    "#                                  'yr_renovated', 'zipcode'], \n",
    "#             y_vars='price', kind='reg')"
   ]
  },
  {
   "cell_type": "markdown",
   "metadata": {},
   "source": [
    "# Second Step: SK Learn - Setting Variables"
   ]
  },
  {
   "cell_type": "code",
   "execution_count": 6,
   "metadata": {},
   "outputs": [],
   "source": [
    "feature_cols = ['bedrooms', 'bathrooms', 'sqft_living',\n",
    "                'sqft_lot', 'sqft_above', 'sqft_basement', \n",
    "                'yr_built', 'sqft_living15', 'sqft_lot15',\n",
    "                'floors', 'waterfront', 'view', 'condition', \n",
    "                'grade', 'yr_renovated', 'zipcode'] #### lat/long?\n",
    "X = data[feature_cols]\n",
    "y = data['price']"
   ]
  },
  {
   "cell_type": "markdown",
   "metadata": {},
   "source": [
    "# Third Step: SK Learn - Splitting Our Data"
   ]
  },
  {
   "cell_type": "code",
   "execution_count": 7,
   "metadata": {},
   "outputs": [],
   "source": [
    "# train_test_split defaults to a good 3/4 and 1/4 split\n",
    "X_train, X_test, y_train, y_test = train_test_split(X,y, random_state=14)"
   ]
  },
  {
   "cell_type": "markdown",
   "metadata": {},
   "source": [
    "# Fourth Step: SK Learn - Training Our Model"
   ]
  },
  {
   "cell_type": "code",
   "execution_count": 8,
   "metadata": {},
   "outputs": [
    {
     "data": {
      "text/plain": [
       "LinearRegression(copy_X=True, fit_intercept=True, n_jobs=None, normalize=False)"
      ]
     },
     "execution_count": 8,
     "metadata": {},
     "output_type": "execute_result"
    }
   ],
   "source": [
    "lr = LinearRegression()\n",
    "lr.fit(X_train, y_train)"
   ]
  },
  {
   "cell_type": "markdown",
   "metadata": {},
   "source": [
    "# Fifth Step: Interpretting Coefficients"
   ]
  },
  {
   "cell_type": "code",
   "execution_count": 9,
   "metadata": {},
   "outputs": [
    {
     "name": "stdout",
     "output_type": "stream",
     "text": [
      "3083280.9996813824\n",
      "[-4.33380841e+04  4.71997762e+04  1.13632178e+02 -4.89254416e-02\n",
      "  5.56476331e+01  5.79845454e+01 -3.61557033e+03  2.39936988e+01\n",
      " -4.71131080e-01  2.65124085e+04  5.71567638e+05  4.29051183e+04\n",
      "  2.20673591e+04  1.21189436e+05  8.55617236e+00  3.24055756e+01]\n"
     ]
    },
    {
     "data": {
      "text/plain": [
       "[('bedrooms', -43338.08410771108),\n",
       " ('bathrooms', 47199.77620811494),\n",
       " ('sqft_living', 113.63217831841705),\n",
       " ('sqft_lot', -0.04892544158027261),\n",
       " ('sqft_above', 55.647633141042135),\n",
       " ('sqft_basement', 57.984545374539465),\n",
       " ('yr_built', -3615.570328643359),\n",
       " ('sqft_living15', 23.993698789336637),\n",
       " ('sqft_lot15', -0.47113108024572314),\n",
       " ('floors', 26512.40847668461),\n",
       " ('waterfront', 571567.6383687321),\n",
       " ('view', 42905.11827861707),\n",
       " ('condition', 22067.359098946992),\n",
       " ('grade', 121189.43638364729),\n",
       " ('yr_renovated', 8.556172362659899),\n",
       " ('zipcode', 32.405575601268474)]"
      ]
     },
     "execution_count": 9,
     "metadata": {},
     "output_type": "execute_result"
    }
   ],
   "source": [
    "print(lr.intercept_)\n",
    "print(lr.coef_)\n",
    "feature_coefs = list(zip(feature_cols, lr.coef_))\n",
    "feature_coefs"
   ]
  },
  {
   "cell_type": "markdown",
   "metadata": {},
   "source": [
    "# Sixth Step: Making predictions based on your model"
   ]
  },
  {
   "cell_type": "code",
   "execution_count": 10,
   "metadata": {},
   "outputs": [],
   "source": [
    "y_pred = lr.predict(X_test)"
   ]
  },
  {
   "cell_type": "markdown",
   "metadata": {},
   "source": [
    "# Seventh Step: Model Evaluation"
   ]
  },
  {
   "cell_type": "code",
   "execution_count": 11,
   "metadata": {},
   "outputs": [
    {
     "name": "stdout",
     "output_type": "stream",
     "text": [
      "143643.4420865468\n"
     ]
    }
   ],
   "source": [
    "print(metrics.mean_absolute_error(y_test, y_pred))"
   ]
  },
  {
   "cell_type": "code",
   "execution_count": 12,
   "metadata": {},
   "outputs": [
    {
     "name": "stdout",
     "output_type": "stream",
     "text": [
      "49748060823.13119\n"
     ]
    }
   ],
   "source": [
    "print(metrics.mean_squared_error(y_test, y_pred))"
   ]
  },
  {
   "cell_type": "code",
   "execution_count": 13,
   "metadata": {},
   "outputs": [
    {
     "name": "stdout",
     "output_type": "stream",
     "text": [
      "223042.7331771452\n"
     ]
    }
   ],
   "source": [
    "print(np.sqrt(metrics.mean_squared_error(y_test, y_pred)))"
   ]
  },
  {
   "cell_type": "code",
   "execution_count": 14,
   "metadata": {},
   "outputs": [
    {
     "name": "stdout",
     "output_type": "stream",
     "text": [
      "0.6325725647640927\n"
     ]
    }
   ],
   "source": [
    "print(metrics.r2_score(y_test, y_pred))"
   ]
  },
  {
   "cell_type": "markdown",
   "metadata": {},
   "source": [
    "# Eighth Step: Feature Selection"
   ]
  },
  {
   "cell_type": "markdown",
   "metadata": {},
   "source": [
    "Decide which variables I think have less significance in determining the target variable and remove them from my model and reevaluate"
   ]
  },
  {
   "cell_type": "code",
   "execution_count": 15,
   "metadata": {},
   "outputs": [],
   "source": [
    "feature_cols = ['bedrooms', 'bathrooms', 'yr_built', 'floors', \n",
    "                'waterfront', 'view', 'condition', 'grade', \n",
    "                'sqft_living', 'zipcode']\n",
    "X = data[feature_cols]\n",
    "y = data['price']"
   ]
  },
  {
   "cell_type": "code",
   "execution_count": 16,
   "metadata": {},
   "outputs": [],
   "source": [
    "X_train, X_test, y_train, y_test = train_test_split(X,y, random_state=14)"
   ]
  },
  {
   "cell_type": "code",
   "execution_count": 17,
   "metadata": {},
   "outputs": [
    {
     "data": {
      "text/plain": [
       "LinearRegression(copy_X=True, fit_intercept=True, n_jobs=None, normalize=False)"
      ]
     },
     "execution_count": 17,
     "metadata": {},
     "output_type": "execute_result"
    }
   ],
   "source": [
    "lr.fit(X_train, y_train)"
   ]
  },
  {
   "cell_type": "code",
   "execution_count": 18,
   "metadata": {},
   "outputs": [
    {
     "name": "stdout",
     "output_type": "stream",
     "text": [
      "3825747.1553871725\n",
      "[-4.15777021e+04  4.82757573e+04 -3.67344087e+03  2.66499430e+04\n",
      "  5.71037523e+05  4.43355951e+04  2.07378737e+04  1.26471086e+05\n",
      "  1.73751169e+02  2.58789656e+01]\n"
     ]
    },
    {
     "data": {
      "text/plain": [
       "[('bedrooms', -41577.702100395494),\n",
       " ('bathrooms', 48275.75730053299),\n",
       " ('yr_built', -3673.4408673966445),\n",
       " ('floors', 26649.9429673077),\n",
       " ('waterfront', 571037.5226052229),\n",
       " ('view', 44335.59513280863),\n",
       " ('condition', 20737.873675975155),\n",
       " ('grade', 126471.08589141919),\n",
       " ('sqft_living', 173.75116864471244),\n",
       " ('zipcode', 25.878965618585617)]"
      ]
     },
     "execution_count": 18,
     "metadata": {},
     "output_type": "execute_result"
    }
   ],
   "source": [
    "print(lr.intercept_)\n",
    "print(lr.coef_)\n",
    "feature_coefs = list(zip(feature_cols, lr.coef_))\n",
    "feature_coefs"
   ]
  },
  {
   "cell_type": "code",
   "execution_count": 19,
   "metadata": {},
   "outputs": [],
   "source": [
    "y_pred = lr.predict(X_test)"
   ]
  },
  {
   "cell_type": "code",
   "execution_count": 20,
   "metadata": {},
   "outputs": [
    {
     "name": "stdout",
     "output_type": "stream",
     "text": [
      "143871.14726634172\n",
      "50032936274.07276\n",
      "223680.4333733122\n",
      "0.630468541922413\n"
     ]
    }
   ],
   "source": [
    "print(metrics.mean_absolute_error(y_test, y_pred))\n",
    "print(metrics.mean_squared_error(y_test, y_pred))\n",
    "print(np.sqrt(metrics.mean_squared_error(y_test, y_pred)))\n",
    "print(metrics.r2_score(y_test, y_pred))"
   ]
  },
  {
   "cell_type": "markdown",
   "metadata": {},
   "source": [
    "# Making a better model"
   ]
  },
  {
   "cell_type": "markdown",
   "metadata": {},
   "source": [
    "## Polynomials"
   ]
  },
  {
   "cell_type": "code",
   "execution_count": 21,
   "metadata": {},
   "outputs": [],
   "source": [
    "poly = PolynomialFeatures(degree=2, include_bias=False)"
   ]
  },
  {
   "cell_type": "code",
   "execution_count": 22,
   "metadata": {},
   "outputs": [],
   "source": [
    "features = ['bedrooms', 'bathrooms', 'sqft_living',\n",
    "                'sqft_lot', 'sqft_above', 'sqft_basement', \n",
    "                'yr_built', 'sqft_living15', 'sqft_lot15',\n",
    "                'floors', 'waterfront', 'view', 'condition', \n",
    "                'grade', 'yr_renovated', 'zipcode']\n",
    "\n",
    "df_features = data[features]"
   ]
  },
  {
   "cell_type": "code",
   "execution_count": 23,
   "metadata": {},
   "outputs": [
    {
     "data": {
      "text/html": [
       "<div>\n",
       "<style scoped>\n",
       "    .dataframe tbody tr th:only-of-type {\n",
       "        vertical-align: middle;\n",
       "    }\n",
       "\n",
       "    .dataframe tbody tr th {\n",
       "        vertical-align: top;\n",
       "    }\n",
       "\n",
       "    .dataframe thead th {\n",
       "        text-align: right;\n",
       "    }\n",
       "</style>\n",
       "<table border=\"1\" class=\"dataframe\">\n",
       "  <thead>\n",
       "    <tr style=\"text-align: right;\">\n",
       "      <th></th>\n",
       "      <th>bedrooms</th>\n",
       "      <th>bathrooms</th>\n",
       "      <th>sqft_living</th>\n",
       "      <th>sqft_lot</th>\n",
       "      <th>sqft_above</th>\n",
       "      <th>sqft_basement</th>\n",
       "      <th>yr_built</th>\n",
       "      <th>sqft_living15</th>\n",
       "      <th>sqft_lot15</th>\n",
       "      <th>floors</th>\n",
       "      <th>waterfront</th>\n",
       "      <th>view</th>\n",
       "      <th>condition</th>\n",
       "      <th>grade</th>\n",
       "      <th>yr_renovated</th>\n",
       "      <th>zipcode</th>\n",
       "      <th>bedrooms^2</th>\n",
       "      <th>bedrooms bathrooms</th>\n",
       "      <th>bedrooms sqft_living</th>\n",
       "      <th>bedrooms sqft_lot</th>\n",
       "      <th>bedrooms sqft_above</th>\n",
       "      <th>bedrooms sqft_basement</th>\n",
       "      <th>bedrooms yr_built</th>\n",
       "      <th>bedrooms sqft_living15</th>\n",
       "      <th>bedrooms sqft_lot15</th>\n",
       "      <th>bedrooms floors</th>\n",
       "      <th>bedrooms waterfront</th>\n",
       "      <th>bedrooms view</th>\n",
       "      <th>bedrooms condition</th>\n",
       "      <th>bedrooms grade</th>\n",
       "      <th>bedrooms yr_renovated</th>\n",
       "      <th>bedrooms zipcode</th>\n",
       "      <th>bathrooms^2</th>\n",
       "      <th>bathrooms sqft_living</th>\n",
       "      <th>bathrooms sqft_lot</th>\n",
       "      <th>bathrooms sqft_above</th>\n",
       "      <th>bathrooms sqft_basement</th>\n",
       "      <th>bathrooms yr_built</th>\n",
       "      <th>bathrooms sqft_living15</th>\n",
       "      <th>bathrooms sqft_lot15</th>\n",
       "      <th>bathrooms floors</th>\n",
       "      <th>bathrooms waterfront</th>\n",
       "      <th>bathrooms view</th>\n",
       "      <th>bathrooms condition</th>\n",
       "      <th>bathrooms grade</th>\n",
       "      <th>bathrooms yr_renovated</th>\n",
       "      <th>bathrooms zipcode</th>\n",
       "      <th>sqft_living^2</th>\n",
       "      <th>sqft_living sqft_lot</th>\n",
       "      <th>sqft_living sqft_above</th>\n",
       "      <th>sqft_living sqft_basement</th>\n",
       "      <th>sqft_living yr_built</th>\n",
       "      <th>sqft_living sqft_living15</th>\n",
       "      <th>sqft_living sqft_lot15</th>\n",
       "      <th>sqft_living floors</th>\n",
       "      <th>sqft_living waterfront</th>\n",
       "      <th>sqft_living view</th>\n",
       "      <th>sqft_living condition</th>\n",
       "      <th>sqft_living grade</th>\n",
       "      <th>sqft_living yr_renovated</th>\n",
       "      <th>sqft_living zipcode</th>\n",
       "      <th>sqft_lot^2</th>\n",
       "      <th>sqft_lot sqft_above</th>\n",
       "      <th>sqft_lot sqft_basement</th>\n",
       "      <th>sqft_lot yr_built</th>\n",
       "      <th>sqft_lot sqft_living15</th>\n",
       "      <th>sqft_lot sqft_lot15</th>\n",
       "      <th>sqft_lot floors</th>\n",
       "      <th>sqft_lot waterfront</th>\n",
       "      <th>sqft_lot view</th>\n",
       "      <th>sqft_lot condition</th>\n",
       "      <th>sqft_lot grade</th>\n",
       "      <th>sqft_lot yr_renovated</th>\n",
       "      <th>sqft_lot zipcode</th>\n",
       "      <th>sqft_above^2</th>\n",
       "      <th>sqft_above sqft_basement</th>\n",
       "      <th>sqft_above yr_built</th>\n",
       "      <th>sqft_above sqft_living15</th>\n",
       "      <th>sqft_above sqft_lot15</th>\n",
       "      <th>sqft_above floors</th>\n",
       "      <th>sqft_above waterfront</th>\n",
       "      <th>sqft_above view</th>\n",
       "      <th>sqft_above condition</th>\n",
       "      <th>sqft_above grade</th>\n",
       "      <th>sqft_above yr_renovated</th>\n",
       "      <th>sqft_above zipcode</th>\n",
       "      <th>sqft_basement^2</th>\n",
       "      <th>sqft_basement yr_built</th>\n",
       "      <th>sqft_basement sqft_living15</th>\n",
       "      <th>sqft_basement sqft_lot15</th>\n",
       "      <th>sqft_basement floors</th>\n",
       "      <th>sqft_basement waterfront</th>\n",
       "      <th>sqft_basement view</th>\n",
       "      <th>sqft_basement condition</th>\n",
       "      <th>sqft_basement grade</th>\n",
       "      <th>sqft_basement yr_renovated</th>\n",
       "      <th>sqft_basement zipcode</th>\n",
       "      <th>yr_built^2</th>\n",
       "      <th>yr_built sqft_living15</th>\n",
       "      <th>yr_built sqft_lot15</th>\n",
       "      <th>yr_built floors</th>\n",
       "      <th>yr_built waterfront</th>\n",
       "      <th>yr_built view</th>\n",
       "      <th>yr_built condition</th>\n",
       "      <th>yr_built grade</th>\n",
       "      <th>yr_built yr_renovated</th>\n",
       "      <th>yr_built zipcode</th>\n",
       "      <th>sqft_living15^2</th>\n",
       "      <th>sqft_living15 sqft_lot15</th>\n",
       "      <th>sqft_living15 floors</th>\n",
       "      <th>sqft_living15 waterfront</th>\n",
       "      <th>sqft_living15 view</th>\n",
       "      <th>sqft_living15 condition</th>\n",
       "      <th>sqft_living15 grade</th>\n",
       "      <th>sqft_living15 yr_renovated</th>\n",
       "      <th>sqft_living15 zipcode</th>\n",
       "      <th>sqft_lot15^2</th>\n",
       "      <th>sqft_lot15 floors</th>\n",
       "      <th>sqft_lot15 waterfront</th>\n",
       "      <th>sqft_lot15 view</th>\n",
       "      <th>sqft_lot15 condition</th>\n",
       "      <th>sqft_lot15 grade</th>\n",
       "      <th>sqft_lot15 yr_renovated</th>\n",
       "      <th>sqft_lot15 zipcode</th>\n",
       "      <th>floors^2</th>\n",
       "      <th>floors waterfront</th>\n",
       "      <th>floors view</th>\n",
       "      <th>floors condition</th>\n",
       "      <th>floors grade</th>\n",
       "      <th>floors yr_renovated</th>\n",
       "      <th>floors zipcode</th>\n",
       "      <th>waterfront^2</th>\n",
       "      <th>waterfront view</th>\n",
       "      <th>waterfront condition</th>\n",
       "      <th>waterfront grade</th>\n",
       "      <th>waterfront yr_renovated</th>\n",
       "      <th>waterfront zipcode</th>\n",
       "      <th>view^2</th>\n",
       "      <th>view condition</th>\n",
       "      <th>view grade</th>\n",
       "      <th>view yr_renovated</th>\n",
       "      <th>view zipcode</th>\n",
       "      <th>condition^2</th>\n",
       "      <th>condition grade</th>\n",
       "      <th>condition yr_renovated</th>\n",
       "      <th>condition zipcode</th>\n",
       "      <th>grade^2</th>\n",
       "      <th>grade yr_renovated</th>\n",
       "      <th>grade zipcode</th>\n",
       "      <th>yr_renovated^2</th>\n",
       "      <th>yr_renovated zipcode</th>\n",
       "      <th>zipcode^2</th>\n",
       "    </tr>\n",
       "  </thead>\n",
       "  <tbody>\n",
       "    <tr>\n",
       "      <th>0</th>\n",
       "      <td>4.0</td>\n",
       "      <td>2.25</td>\n",
       "      <td>2070.0</td>\n",
       "      <td>8893.0</td>\n",
       "      <td>2070.0</td>\n",
       "      <td>0.0</td>\n",
       "      <td>1986.0</td>\n",
       "      <td>2390.0</td>\n",
       "      <td>7700.0</td>\n",
       "      <td>2.0</td>\n",
       "      <td>0.0</td>\n",
       "      <td>0.0</td>\n",
       "      <td>4.0</td>\n",
       "      <td>8.0</td>\n",
       "      <td>0.0</td>\n",
       "      <td>98058.0</td>\n",
       "      <td>16.0</td>\n",
       "      <td>9.0</td>\n",
       "      <td>8280.0</td>\n",
       "      <td>35572.0</td>\n",
       "      <td>8280.0</td>\n",
       "      <td>0.0</td>\n",
       "      <td>7944.0</td>\n",
       "      <td>9560.0</td>\n",
       "      <td>30800.0</td>\n",
       "      <td>8.0</td>\n",
       "      <td>0.0</td>\n",
       "      <td>0.0</td>\n",
       "      <td>16.0</td>\n",
       "      <td>32.0</td>\n",
       "      <td>0.0</td>\n",
       "      <td>392232.0</td>\n",
       "      <td>5.0625</td>\n",
       "      <td>4657.5</td>\n",
       "      <td>20009.25</td>\n",
       "      <td>4657.5</td>\n",
       "      <td>0.0</td>\n",
       "      <td>4468.5</td>\n",
       "      <td>5377.5</td>\n",
       "      <td>17325.0</td>\n",
       "      <td>4.5</td>\n",
       "      <td>0.0</td>\n",
       "      <td>0.0</td>\n",
       "      <td>9.0</td>\n",
       "      <td>18.0</td>\n",
       "      <td>0.0</td>\n",
       "      <td>220630.5</td>\n",
       "      <td>4284900.0</td>\n",
       "      <td>18408510.0</td>\n",
       "      <td>4284900.0</td>\n",
       "      <td>0.0</td>\n",
       "      <td>4111020.0</td>\n",
       "      <td>4947300.0</td>\n",
       "      <td>15939000.0</td>\n",
       "      <td>4140.0</td>\n",
       "      <td>0.0</td>\n",
       "      <td>0.0</td>\n",
       "      <td>8280.0</td>\n",
       "      <td>16560.0</td>\n",
       "      <td>0.0</td>\n",
       "      <td>202980060.0</td>\n",
       "      <td>79085449.0</td>\n",
       "      <td>18408510.0</td>\n",
       "      <td>0.0</td>\n",
       "      <td>17661498.0</td>\n",
       "      <td>21254270.0</td>\n",
       "      <td>68476100.0</td>\n",
       "      <td>17786.0</td>\n",
       "      <td>0.0</td>\n",
       "      <td>0.0</td>\n",
       "      <td>35572.0</td>\n",
       "      <td>71144.0</td>\n",
       "      <td>0.0</td>\n",
       "      <td>8.720298e+08</td>\n",
       "      <td>4284900.0</td>\n",
       "      <td>0.0</td>\n",
       "      <td>4111020.0</td>\n",
       "      <td>4947300.0</td>\n",
       "      <td>15939000.0</td>\n",
       "      <td>4140.0</td>\n",
       "      <td>0.0</td>\n",
       "      <td>0.0</td>\n",
       "      <td>8280.0</td>\n",
       "      <td>16560.0</td>\n",
       "      <td>0.0</td>\n",
       "      <td>202980060.0</td>\n",
       "      <td>0.0</td>\n",
       "      <td>0.0</td>\n",
       "      <td>0.0</td>\n",
       "      <td>0.0</td>\n",
       "      <td>0.0</td>\n",
       "      <td>0.0</td>\n",
       "      <td>0.0</td>\n",
       "      <td>0.0</td>\n",
       "      <td>0.0</td>\n",
       "      <td>0.0</td>\n",
       "      <td>0.0</td>\n",
       "      <td>3944196.0</td>\n",
       "      <td>4746540.0</td>\n",
       "      <td>15292200.0</td>\n",
       "      <td>3972.0</td>\n",
       "      <td>0.0</td>\n",
       "      <td>0.0</td>\n",
       "      <td>7944.0</td>\n",
       "      <td>15888.0</td>\n",
       "      <td>0.0</td>\n",
       "      <td>194743188.0</td>\n",
       "      <td>5712100.0</td>\n",
       "      <td>18403000.0</td>\n",
       "      <td>4780.0</td>\n",
       "      <td>0.0</td>\n",
       "      <td>0.0</td>\n",
       "      <td>9560.0</td>\n",
       "      <td>19120.0</td>\n",
       "      <td>0.0</td>\n",
       "      <td>234358620.0</td>\n",
       "      <td>59290000.0</td>\n",
       "      <td>15400.0</td>\n",
       "      <td>0.0</td>\n",
       "      <td>0.0</td>\n",
       "      <td>30800.0</td>\n",
       "      <td>61600.0</td>\n",
       "      <td>0.0</td>\n",
       "      <td>7.550466e+08</td>\n",
       "      <td>4.0</td>\n",
       "      <td>0.0</td>\n",
       "      <td>0.0</td>\n",
       "      <td>8.0</td>\n",
       "      <td>16.0</td>\n",
       "      <td>0.0</td>\n",
       "      <td>196116.0</td>\n",
       "      <td>0.0</td>\n",
       "      <td>0.0</td>\n",
       "      <td>0.0</td>\n",
       "      <td>0.0</td>\n",
       "      <td>0.0</td>\n",
       "      <td>0.0</td>\n",
       "      <td>0.0</td>\n",
       "      <td>0.0</td>\n",
       "      <td>0.0</td>\n",
       "      <td>0.0</td>\n",
       "      <td>0.0</td>\n",
       "      <td>16.0</td>\n",
       "      <td>32.0</td>\n",
       "      <td>0.0</td>\n",
       "      <td>392232.0</td>\n",
       "      <td>64.0</td>\n",
       "      <td>0.0</td>\n",
       "      <td>784464.0</td>\n",
       "      <td>0.0</td>\n",
       "      <td>0.0</td>\n",
       "      <td>9.615371e+09</td>\n",
       "    </tr>\n",
       "    <tr>\n",
       "      <th>1</th>\n",
       "      <td>5.0</td>\n",
       "      <td>3.00</td>\n",
       "      <td>2900.0</td>\n",
       "      <td>6730.0</td>\n",
       "      <td>1830.0</td>\n",
       "      <td>1070.0</td>\n",
       "      <td>1977.0</td>\n",
       "      <td>2370.0</td>\n",
       "      <td>6283.0</td>\n",
       "      <td>1.0</td>\n",
       "      <td>0.0</td>\n",
       "      <td>0.0</td>\n",
       "      <td>5.0</td>\n",
       "      <td>8.0</td>\n",
       "      <td>0.0</td>\n",
       "      <td>98115.0</td>\n",
       "      <td>25.0</td>\n",
       "      <td>15.0</td>\n",
       "      <td>14500.0</td>\n",
       "      <td>33650.0</td>\n",
       "      <td>9150.0</td>\n",
       "      <td>5350.0</td>\n",
       "      <td>9885.0</td>\n",
       "      <td>11850.0</td>\n",
       "      <td>31415.0</td>\n",
       "      <td>5.0</td>\n",
       "      <td>0.0</td>\n",
       "      <td>0.0</td>\n",
       "      <td>25.0</td>\n",
       "      <td>40.0</td>\n",
       "      <td>0.0</td>\n",
       "      <td>490575.0</td>\n",
       "      <td>9.0000</td>\n",
       "      <td>8700.0</td>\n",
       "      <td>20190.00</td>\n",
       "      <td>5490.0</td>\n",
       "      <td>3210.0</td>\n",
       "      <td>5931.0</td>\n",
       "      <td>7110.0</td>\n",
       "      <td>18849.0</td>\n",
       "      <td>3.0</td>\n",
       "      <td>0.0</td>\n",
       "      <td>0.0</td>\n",
       "      <td>15.0</td>\n",
       "      <td>24.0</td>\n",
       "      <td>0.0</td>\n",
       "      <td>294345.0</td>\n",
       "      <td>8410000.0</td>\n",
       "      <td>19517000.0</td>\n",
       "      <td>5307000.0</td>\n",
       "      <td>3103000.0</td>\n",
       "      <td>5733300.0</td>\n",
       "      <td>6873000.0</td>\n",
       "      <td>18220700.0</td>\n",
       "      <td>2900.0</td>\n",
       "      <td>0.0</td>\n",
       "      <td>0.0</td>\n",
       "      <td>14500.0</td>\n",
       "      <td>23200.0</td>\n",
       "      <td>0.0</td>\n",
       "      <td>284533500.0</td>\n",
       "      <td>45292900.0</td>\n",
       "      <td>12315900.0</td>\n",
       "      <td>7201100.0</td>\n",
       "      <td>13305210.0</td>\n",
       "      <td>15950100.0</td>\n",
       "      <td>42284590.0</td>\n",
       "      <td>6730.0</td>\n",
       "      <td>0.0</td>\n",
       "      <td>0.0</td>\n",
       "      <td>33650.0</td>\n",
       "      <td>53840.0</td>\n",
       "      <td>0.0</td>\n",
       "      <td>6.603140e+08</td>\n",
       "      <td>3348900.0</td>\n",
       "      <td>1958100.0</td>\n",
       "      <td>3617910.0</td>\n",
       "      <td>4337100.0</td>\n",
       "      <td>11497890.0</td>\n",
       "      <td>1830.0</td>\n",
       "      <td>0.0</td>\n",
       "      <td>0.0</td>\n",
       "      <td>9150.0</td>\n",
       "      <td>14640.0</td>\n",
       "      <td>0.0</td>\n",
       "      <td>179550450.0</td>\n",
       "      <td>1144900.0</td>\n",
       "      <td>2115390.0</td>\n",
       "      <td>2535900.0</td>\n",
       "      <td>6722810.0</td>\n",
       "      <td>1070.0</td>\n",
       "      <td>0.0</td>\n",
       "      <td>0.0</td>\n",
       "      <td>5350.0</td>\n",
       "      <td>8560.0</td>\n",
       "      <td>0.0</td>\n",
       "      <td>104983050.0</td>\n",
       "      <td>3908529.0</td>\n",
       "      <td>4685490.0</td>\n",
       "      <td>12421491.0</td>\n",
       "      <td>1977.0</td>\n",
       "      <td>0.0</td>\n",
       "      <td>0.0</td>\n",
       "      <td>9885.0</td>\n",
       "      <td>15816.0</td>\n",
       "      <td>0.0</td>\n",
       "      <td>193973355.0</td>\n",
       "      <td>5616900.0</td>\n",
       "      <td>14890710.0</td>\n",
       "      <td>2370.0</td>\n",
       "      <td>0.0</td>\n",
       "      <td>0.0</td>\n",
       "      <td>11850.0</td>\n",
       "      <td>18960.0</td>\n",
       "      <td>0.0</td>\n",
       "      <td>232532550.0</td>\n",
       "      <td>39476089.0</td>\n",
       "      <td>6283.0</td>\n",
       "      <td>0.0</td>\n",
       "      <td>0.0</td>\n",
       "      <td>31415.0</td>\n",
       "      <td>50264.0</td>\n",
       "      <td>0.0</td>\n",
       "      <td>6.164565e+08</td>\n",
       "      <td>1.0</td>\n",
       "      <td>0.0</td>\n",
       "      <td>0.0</td>\n",
       "      <td>5.0</td>\n",
       "      <td>8.0</td>\n",
       "      <td>0.0</td>\n",
       "      <td>98115.0</td>\n",
       "      <td>0.0</td>\n",
       "      <td>0.0</td>\n",
       "      <td>0.0</td>\n",
       "      <td>0.0</td>\n",
       "      <td>0.0</td>\n",
       "      <td>0.0</td>\n",
       "      <td>0.0</td>\n",
       "      <td>0.0</td>\n",
       "      <td>0.0</td>\n",
       "      <td>0.0</td>\n",
       "      <td>0.0</td>\n",
       "      <td>25.0</td>\n",
       "      <td>40.0</td>\n",
       "      <td>0.0</td>\n",
       "      <td>490575.0</td>\n",
       "      <td>64.0</td>\n",
       "      <td>0.0</td>\n",
       "      <td>784920.0</td>\n",
       "      <td>0.0</td>\n",
       "      <td>0.0</td>\n",
       "      <td>9.626553e+09</td>\n",
       "    </tr>\n",
       "    <tr>\n",
       "      <th>2</th>\n",
       "      <td>4.0</td>\n",
       "      <td>2.50</td>\n",
       "      <td>3770.0</td>\n",
       "      <td>10893.0</td>\n",
       "      <td>3770.0</td>\n",
       "      <td>0.0</td>\n",
       "      <td>1997.0</td>\n",
       "      <td>3710.0</td>\n",
       "      <td>9685.0</td>\n",
       "      <td>2.0</td>\n",
       "      <td>0.0</td>\n",
       "      <td>2.0</td>\n",
       "      <td>3.0</td>\n",
       "      <td>11.0</td>\n",
       "      <td>0.0</td>\n",
       "      <td>98006.0</td>\n",
       "      <td>16.0</td>\n",
       "      <td>10.0</td>\n",
       "      <td>15080.0</td>\n",
       "      <td>43572.0</td>\n",
       "      <td>15080.0</td>\n",
       "      <td>0.0</td>\n",
       "      <td>7988.0</td>\n",
       "      <td>14840.0</td>\n",
       "      <td>38740.0</td>\n",
       "      <td>8.0</td>\n",
       "      <td>0.0</td>\n",
       "      <td>8.0</td>\n",
       "      <td>12.0</td>\n",
       "      <td>44.0</td>\n",
       "      <td>0.0</td>\n",
       "      <td>392024.0</td>\n",
       "      <td>6.2500</td>\n",
       "      <td>9425.0</td>\n",
       "      <td>27232.50</td>\n",
       "      <td>9425.0</td>\n",
       "      <td>0.0</td>\n",
       "      <td>4992.5</td>\n",
       "      <td>9275.0</td>\n",
       "      <td>24212.5</td>\n",
       "      <td>5.0</td>\n",
       "      <td>0.0</td>\n",
       "      <td>5.0</td>\n",
       "      <td>7.5</td>\n",
       "      <td>27.5</td>\n",
       "      <td>0.0</td>\n",
       "      <td>245015.0</td>\n",
       "      <td>14212900.0</td>\n",
       "      <td>41066610.0</td>\n",
       "      <td>14212900.0</td>\n",
       "      <td>0.0</td>\n",
       "      <td>7528690.0</td>\n",
       "      <td>13986700.0</td>\n",
       "      <td>36512450.0</td>\n",
       "      <td>7540.0</td>\n",
       "      <td>0.0</td>\n",
       "      <td>7540.0</td>\n",
       "      <td>11310.0</td>\n",
       "      <td>41470.0</td>\n",
       "      <td>0.0</td>\n",
       "      <td>369482620.0</td>\n",
       "      <td>118657449.0</td>\n",
       "      <td>41066610.0</td>\n",
       "      <td>0.0</td>\n",
       "      <td>21753321.0</td>\n",
       "      <td>40413030.0</td>\n",
       "      <td>105498705.0</td>\n",
       "      <td>21786.0</td>\n",
       "      <td>0.0</td>\n",
       "      <td>21786.0</td>\n",
       "      <td>32679.0</td>\n",
       "      <td>119823.0</td>\n",
       "      <td>0.0</td>\n",
       "      <td>1.067579e+09</td>\n",
       "      <td>14212900.0</td>\n",
       "      <td>0.0</td>\n",
       "      <td>7528690.0</td>\n",
       "      <td>13986700.0</td>\n",
       "      <td>36512450.0</td>\n",
       "      <td>7540.0</td>\n",
       "      <td>0.0</td>\n",
       "      <td>7540.0</td>\n",
       "      <td>11310.0</td>\n",
       "      <td>41470.0</td>\n",
       "      <td>0.0</td>\n",
       "      <td>369482620.0</td>\n",
       "      <td>0.0</td>\n",
       "      <td>0.0</td>\n",
       "      <td>0.0</td>\n",
       "      <td>0.0</td>\n",
       "      <td>0.0</td>\n",
       "      <td>0.0</td>\n",
       "      <td>0.0</td>\n",
       "      <td>0.0</td>\n",
       "      <td>0.0</td>\n",
       "      <td>0.0</td>\n",
       "      <td>0.0</td>\n",
       "      <td>3988009.0</td>\n",
       "      <td>7408870.0</td>\n",
       "      <td>19340945.0</td>\n",
       "      <td>3994.0</td>\n",
       "      <td>0.0</td>\n",
       "      <td>3994.0</td>\n",
       "      <td>5991.0</td>\n",
       "      <td>21967.0</td>\n",
       "      <td>0.0</td>\n",
       "      <td>195717982.0</td>\n",
       "      <td>13764100.0</td>\n",
       "      <td>35931350.0</td>\n",
       "      <td>7420.0</td>\n",
       "      <td>0.0</td>\n",
       "      <td>7420.0</td>\n",
       "      <td>11130.0</td>\n",
       "      <td>40810.0</td>\n",
       "      <td>0.0</td>\n",
       "      <td>363602260.0</td>\n",
       "      <td>93799225.0</td>\n",
       "      <td>19370.0</td>\n",
       "      <td>0.0</td>\n",
       "      <td>19370.0</td>\n",
       "      <td>29055.0</td>\n",
       "      <td>106535.0</td>\n",
       "      <td>0.0</td>\n",
       "      <td>9.491881e+08</td>\n",
       "      <td>4.0</td>\n",
       "      <td>0.0</td>\n",
       "      <td>4.0</td>\n",
       "      <td>6.0</td>\n",
       "      <td>22.0</td>\n",
       "      <td>0.0</td>\n",
       "      <td>196012.0</td>\n",
       "      <td>0.0</td>\n",
       "      <td>0.0</td>\n",
       "      <td>0.0</td>\n",
       "      <td>0.0</td>\n",
       "      <td>0.0</td>\n",
       "      <td>0.0</td>\n",
       "      <td>4.0</td>\n",
       "      <td>6.0</td>\n",
       "      <td>22.0</td>\n",
       "      <td>0.0</td>\n",
       "      <td>196012.0</td>\n",
       "      <td>9.0</td>\n",
       "      <td>33.0</td>\n",
       "      <td>0.0</td>\n",
       "      <td>294018.0</td>\n",
       "      <td>121.0</td>\n",
       "      <td>0.0</td>\n",
       "      <td>1078066.0</td>\n",
       "      <td>0.0</td>\n",
       "      <td>0.0</td>\n",
       "      <td>9.605176e+09</td>\n",
       "    </tr>\n",
       "    <tr>\n",
       "      <th>3</th>\n",
       "      <td>3.0</td>\n",
       "      <td>3.50</td>\n",
       "      <td>4560.0</td>\n",
       "      <td>14608.0</td>\n",
       "      <td>4560.0</td>\n",
       "      <td>0.0</td>\n",
       "      <td>1990.0</td>\n",
       "      <td>4050.0</td>\n",
       "      <td>14226.0</td>\n",
       "      <td>2.0</td>\n",
       "      <td>0.0</td>\n",
       "      <td>2.0</td>\n",
       "      <td>3.0</td>\n",
       "      <td>12.0</td>\n",
       "      <td>0.0</td>\n",
       "      <td>98034.0</td>\n",
       "      <td>9.0</td>\n",
       "      <td>10.5</td>\n",
       "      <td>13680.0</td>\n",
       "      <td>43824.0</td>\n",
       "      <td>13680.0</td>\n",
       "      <td>0.0</td>\n",
       "      <td>5970.0</td>\n",
       "      <td>12150.0</td>\n",
       "      <td>42678.0</td>\n",
       "      <td>6.0</td>\n",
       "      <td>0.0</td>\n",
       "      <td>6.0</td>\n",
       "      <td>9.0</td>\n",
       "      <td>36.0</td>\n",
       "      <td>0.0</td>\n",
       "      <td>294102.0</td>\n",
       "      <td>12.2500</td>\n",
       "      <td>15960.0</td>\n",
       "      <td>51128.00</td>\n",
       "      <td>15960.0</td>\n",
       "      <td>0.0</td>\n",
       "      <td>6965.0</td>\n",
       "      <td>14175.0</td>\n",
       "      <td>49791.0</td>\n",
       "      <td>7.0</td>\n",
       "      <td>0.0</td>\n",
       "      <td>7.0</td>\n",
       "      <td>10.5</td>\n",
       "      <td>42.0</td>\n",
       "      <td>0.0</td>\n",
       "      <td>343119.0</td>\n",
       "      <td>20793600.0</td>\n",
       "      <td>66612480.0</td>\n",
       "      <td>20793600.0</td>\n",
       "      <td>0.0</td>\n",
       "      <td>9074400.0</td>\n",
       "      <td>18468000.0</td>\n",
       "      <td>64870560.0</td>\n",
       "      <td>9120.0</td>\n",
       "      <td>0.0</td>\n",
       "      <td>9120.0</td>\n",
       "      <td>13680.0</td>\n",
       "      <td>54720.0</td>\n",
       "      <td>0.0</td>\n",
       "      <td>447035040.0</td>\n",
       "      <td>213393664.0</td>\n",
       "      <td>66612480.0</td>\n",
       "      <td>0.0</td>\n",
       "      <td>29069920.0</td>\n",
       "      <td>59162400.0</td>\n",
       "      <td>207813408.0</td>\n",
       "      <td>29216.0</td>\n",
       "      <td>0.0</td>\n",
       "      <td>29216.0</td>\n",
       "      <td>43824.0</td>\n",
       "      <td>175296.0</td>\n",
       "      <td>0.0</td>\n",
       "      <td>1.432081e+09</td>\n",
       "      <td>20793600.0</td>\n",
       "      <td>0.0</td>\n",
       "      <td>9074400.0</td>\n",
       "      <td>18468000.0</td>\n",
       "      <td>64870560.0</td>\n",
       "      <td>9120.0</td>\n",
       "      <td>0.0</td>\n",
       "      <td>9120.0</td>\n",
       "      <td>13680.0</td>\n",
       "      <td>54720.0</td>\n",
       "      <td>0.0</td>\n",
       "      <td>447035040.0</td>\n",
       "      <td>0.0</td>\n",
       "      <td>0.0</td>\n",
       "      <td>0.0</td>\n",
       "      <td>0.0</td>\n",
       "      <td>0.0</td>\n",
       "      <td>0.0</td>\n",
       "      <td>0.0</td>\n",
       "      <td>0.0</td>\n",
       "      <td>0.0</td>\n",
       "      <td>0.0</td>\n",
       "      <td>0.0</td>\n",
       "      <td>3960100.0</td>\n",
       "      <td>8059500.0</td>\n",
       "      <td>28309740.0</td>\n",
       "      <td>3980.0</td>\n",
       "      <td>0.0</td>\n",
       "      <td>3980.0</td>\n",
       "      <td>5970.0</td>\n",
       "      <td>23880.0</td>\n",
       "      <td>0.0</td>\n",
       "      <td>195087660.0</td>\n",
       "      <td>16402500.0</td>\n",
       "      <td>57615300.0</td>\n",
       "      <td>8100.0</td>\n",
       "      <td>0.0</td>\n",
       "      <td>8100.0</td>\n",
       "      <td>12150.0</td>\n",
       "      <td>48600.0</td>\n",
       "      <td>0.0</td>\n",
       "      <td>397037700.0</td>\n",
       "      <td>202379076.0</td>\n",
       "      <td>28452.0</td>\n",
       "      <td>0.0</td>\n",
       "      <td>28452.0</td>\n",
       "      <td>42678.0</td>\n",
       "      <td>170712.0</td>\n",
       "      <td>0.0</td>\n",
       "      <td>1.394632e+09</td>\n",
       "      <td>4.0</td>\n",
       "      <td>0.0</td>\n",
       "      <td>4.0</td>\n",
       "      <td>6.0</td>\n",
       "      <td>24.0</td>\n",
       "      <td>0.0</td>\n",
       "      <td>196068.0</td>\n",
       "      <td>0.0</td>\n",
       "      <td>0.0</td>\n",
       "      <td>0.0</td>\n",
       "      <td>0.0</td>\n",
       "      <td>0.0</td>\n",
       "      <td>0.0</td>\n",
       "      <td>4.0</td>\n",
       "      <td>6.0</td>\n",
       "      <td>24.0</td>\n",
       "      <td>0.0</td>\n",
       "      <td>196068.0</td>\n",
       "      <td>9.0</td>\n",
       "      <td>36.0</td>\n",
       "      <td>0.0</td>\n",
       "      <td>294102.0</td>\n",
       "      <td>144.0</td>\n",
       "      <td>0.0</td>\n",
       "      <td>1176408.0</td>\n",
       "      <td>0.0</td>\n",
       "      <td>0.0</td>\n",
       "      <td>9.610665e+09</td>\n",
       "    </tr>\n",
       "    <tr>\n",
       "      <th>4</th>\n",
       "      <td>3.0</td>\n",
       "      <td>2.50</td>\n",
       "      <td>2550.0</td>\n",
       "      <td>5376.0</td>\n",
       "      <td>2550.0</td>\n",
       "      <td>0.0</td>\n",
       "      <td>2004.0</td>\n",
       "      <td>2250.0</td>\n",
       "      <td>4050.0</td>\n",
       "      <td>2.0</td>\n",
       "      <td>0.0</td>\n",
       "      <td>0.0</td>\n",
       "      <td>3.0</td>\n",
       "      <td>9.0</td>\n",
       "      <td>0.0</td>\n",
       "      <td>98052.0</td>\n",
       "      <td>9.0</td>\n",
       "      <td>7.5</td>\n",
       "      <td>7650.0</td>\n",
       "      <td>16128.0</td>\n",
       "      <td>7650.0</td>\n",
       "      <td>0.0</td>\n",
       "      <td>6012.0</td>\n",
       "      <td>6750.0</td>\n",
       "      <td>12150.0</td>\n",
       "      <td>6.0</td>\n",
       "      <td>0.0</td>\n",
       "      <td>0.0</td>\n",
       "      <td>9.0</td>\n",
       "      <td>27.0</td>\n",
       "      <td>0.0</td>\n",
       "      <td>294156.0</td>\n",
       "      <td>6.2500</td>\n",
       "      <td>6375.0</td>\n",
       "      <td>13440.00</td>\n",
       "      <td>6375.0</td>\n",
       "      <td>0.0</td>\n",
       "      <td>5010.0</td>\n",
       "      <td>5625.0</td>\n",
       "      <td>10125.0</td>\n",
       "      <td>5.0</td>\n",
       "      <td>0.0</td>\n",
       "      <td>0.0</td>\n",
       "      <td>7.5</td>\n",
       "      <td>22.5</td>\n",
       "      <td>0.0</td>\n",
       "      <td>245130.0</td>\n",
       "      <td>6502500.0</td>\n",
       "      <td>13708800.0</td>\n",
       "      <td>6502500.0</td>\n",
       "      <td>0.0</td>\n",
       "      <td>5110200.0</td>\n",
       "      <td>5737500.0</td>\n",
       "      <td>10327500.0</td>\n",
       "      <td>5100.0</td>\n",
       "      <td>0.0</td>\n",
       "      <td>0.0</td>\n",
       "      <td>7650.0</td>\n",
       "      <td>22950.0</td>\n",
       "      <td>0.0</td>\n",
       "      <td>250032600.0</td>\n",
       "      <td>28901376.0</td>\n",
       "      <td>13708800.0</td>\n",
       "      <td>0.0</td>\n",
       "      <td>10773504.0</td>\n",
       "      <td>12096000.0</td>\n",
       "      <td>21772800.0</td>\n",
       "      <td>10752.0</td>\n",
       "      <td>0.0</td>\n",
       "      <td>0.0</td>\n",
       "      <td>16128.0</td>\n",
       "      <td>48384.0</td>\n",
       "      <td>0.0</td>\n",
       "      <td>5.271276e+08</td>\n",
       "      <td>6502500.0</td>\n",
       "      <td>0.0</td>\n",
       "      <td>5110200.0</td>\n",
       "      <td>5737500.0</td>\n",
       "      <td>10327500.0</td>\n",
       "      <td>5100.0</td>\n",
       "      <td>0.0</td>\n",
       "      <td>0.0</td>\n",
       "      <td>7650.0</td>\n",
       "      <td>22950.0</td>\n",
       "      <td>0.0</td>\n",
       "      <td>250032600.0</td>\n",
       "      <td>0.0</td>\n",
       "      <td>0.0</td>\n",
       "      <td>0.0</td>\n",
       "      <td>0.0</td>\n",
       "      <td>0.0</td>\n",
       "      <td>0.0</td>\n",
       "      <td>0.0</td>\n",
       "      <td>0.0</td>\n",
       "      <td>0.0</td>\n",
       "      <td>0.0</td>\n",
       "      <td>0.0</td>\n",
       "      <td>4016016.0</td>\n",
       "      <td>4509000.0</td>\n",
       "      <td>8116200.0</td>\n",
       "      <td>4008.0</td>\n",
       "      <td>0.0</td>\n",
       "      <td>0.0</td>\n",
       "      <td>6012.0</td>\n",
       "      <td>18036.0</td>\n",
       "      <td>0.0</td>\n",
       "      <td>196496208.0</td>\n",
       "      <td>5062500.0</td>\n",
       "      <td>9112500.0</td>\n",
       "      <td>4500.0</td>\n",
       "      <td>0.0</td>\n",
       "      <td>0.0</td>\n",
       "      <td>6750.0</td>\n",
       "      <td>20250.0</td>\n",
       "      <td>0.0</td>\n",
       "      <td>220617000.0</td>\n",
       "      <td>16402500.0</td>\n",
       "      <td>8100.0</td>\n",
       "      <td>0.0</td>\n",
       "      <td>0.0</td>\n",
       "      <td>12150.0</td>\n",
       "      <td>36450.0</td>\n",
       "      <td>0.0</td>\n",
       "      <td>3.971106e+08</td>\n",
       "      <td>4.0</td>\n",
       "      <td>0.0</td>\n",
       "      <td>0.0</td>\n",
       "      <td>6.0</td>\n",
       "      <td>18.0</td>\n",
       "      <td>0.0</td>\n",
       "      <td>196104.0</td>\n",
       "      <td>0.0</td>\n",
       "      <td>0.0</td>\n",
       "      <td>0.0</td>\n",
       "      <td>0.0</td>\n",
       "      <td>0.0</td>\n",
       "      <td>0.0</td>\n",
       "      <td>0.0</td>\n",
       "      <td>0.0</td>\n",
       "      <td>0.0</td>\n",
       "      <td>0.0</td>\n",
       "      <td>0.0</td>\n",
       "      <td>9.0</td>\n",
       "      <td>27.0</td>\n",
       "      <td>0.0</td>\n",
       "      <td>294156.0</td>\n",
       "      <td>81.0</td>\n",
       "      <td>0.0</td>\n",
       "      <td>882468.0</td>\n",
       "      <td>0.0</td>\n",
       "      <td>0.0</td>\n",
       "      <td>9.614195e+09</td>\n",
       "    </tr>\n",
       "  </tbody>\n",
       "</table>\n",
       "</div>"
      ],
      "text/plain": [
       "   bedrooms  bathrooms  sqft_living  sqft_lot  sqft_above  sqft_basement  \\\n",
       "0       4.0       2.25       2070.0    8893.0      2070.0            0.0   \n",
       "1       5.0       3.00       2900.0    6730.0      1830.0         1070.0   \n",
       "2       4.0       2.50       3770.0   10893.0      3770.0            0.0   \n",
       "3       3.0       3.50       4560.0   14608.0      4560.0            0.0   \n",
       "4       3.0       2.50       2550.0    5376.0      2550.0            0.0   \n",
       "\n",
       "   yr_built  sqft_living15  sqft_lot15  floors  waterfront  view  condition  \\\n",
       "0    1986.0         2390.0      7700.0     2.0         0.0   0.0        4.0   \n",
       "1    1977.0         2370.0      6283.0     1.0         0.0   0.0        5.0   \n",
       "2    1997.0         3710.0      9685.0     2.0         0.0   2.0        3.0   \n",
       "3    1990.0         4050.0     14226.0     2.0         0.0   2.0        3.0   \n",
       "4    2004.0         2250.0      4050.0     2.0         0.0   0.0        3.0   \n",
       "\n",
       "   grade  yr_renovated  zipcode  bedrooms^2  bedrooms bathrooms  \\\n",
       "0    8.0           0.0  98058.0        16.0                 9.0   \n",
       "1    8.0           0.0  98115.0        25.0                15.0   \n",
       "2   11.0           0.0  98006.0        16.0                10.0   \n",
       "3   12.0           0.0  98034.0         9.0                10.5   \n",
       "4    9.0           0.0  98052.0         9.0                 7.5   \n",
       "\n",
       "   bedrooms sqft_living  bedrooms sqft_lot  bedrooms sqft_above  \\\n",
       "0                8280.0            35572.0               8280.0   \n",
       "1               14500.0            33650.0               9150.0   \n",
       "2               15080.0            43572.0              15080.0   \n",
       "3               13680.0            43824.0              13680.0   \n",
       "4                7650.0            16128.0               7650.0   \n",
       "\n",
       "   bedrooms sqft_basement  bedrooms yr_built  bedrooms sqft_living15  \\\n",
       "0                     0.0             7944.0                  9560.0   \n",
       "1                  5350.0             9885.0                 11850.0   \n",
       "2                     0.0             7988.0                 14840.0   \n",
       "3                     0.0             5970.0                 12150.0   \n",
       "4                     0.0             6012.0                  6750.0   \n",
       "\n",
       "   bedrooms sqft_lot15  bedrooms floors  bedrooms waterfront  bedrooms view  \\\n",
       "0              30800.0              8.0                  0.0            0.0   \n",
       "1              31415.0              5.0                  0.0            0.0   \n",
       "2              38740.0              8.0                  0.0            8.0   \n",
       "3              42678.0              6.0                  0.0            6.0   \n",
       "4              12150.0              6.0                  0.0            0.0   \n",
       "\n",
       "   bedrooms condition  bedrooms grade  bedrooms yr_renovated  \\\n",
       "0                16.0            32.0                    0.0   \n",
       "1                25.0            40.0                    0.0   \n",
       "2                12.0            44.0                    0.0   \n",
       "3                 9.0            36.0                    0.0   \n",
       "4                 9.0            27.0                    0.0   \n",
       "\n",
       "   bedrooms zipcode  bathrooms^2  bathrooms sqft_living  bathrooms sqft_lot  \\\n",
       "0          392232.0       5.0625                 4657.5            20009.25   \n",
       "1          490575.0       9.0000                 8700.0            20190.00   \n",
       "2          392024.0       6.2500                 9425.0            27232.50   \n",
       "3          294102.0      12.2500                15960.0            51128.00   \n",
       "4          294156.0       6.2500                 6375.0            13440.00   \n",
       "\n",
       "   bathrooms sqft_above  bathrooms sqft_basement  bathrooms yr_built  \\\n",
       "0                4657.5                      0.0              4468.5   \n",
       "1                5490.0                   3210.0              5931.0   \n",
       "2                9425.0                      0.0              4992.5   \n",
       "3               15960.0                      0.0              6965.0   \n",
       "4                6375.0                      0.0              5010.0   \n",
       "\n",
       "   bathrooms sqft_living15  bathrooms sqft_lot15  bathrooms floors  \\\n",
       "0                   5377.5               17325.0               4.5   \n",
       "1                   7110.0               18849.0               3.0   \n",
       "2                   9275.0               24212.5               5.0   \n",
       "3                  14175.0               49791.0               7.0   \n",
       "4                   5625.0               10125.0               5.0   \n",
       "\n",
       "   bathrooms waterfront  bathrooms view  bathrooms condition  bathrooms grade  \\\n",
       "0                   0.0             0.0                  9.0             18.0   \n",
       "1                   0.0             0.0                 15.0             24.0   \n",
       "2                   0.0             5.0                  7.5             27.5   \n",
       "3                   0.0             7.0                 10.5             42.0   \n",
       "4                   0.0             0.0                  7.5             22.5   \n",
       "\n",
       "   bathrooms yr_renovated  bathrooms zipcode  sqft_living^2  \\\n",
       "0                     0.0           220630.5      4284900.0   \n",
       "1                     0.0           294345.0      8410000.0   \n",
       "2                     0.0           245015.0     14212900.0   \n",
       "3                     0.0           343119.0     20793600.0   \n",
       "4                     0.0           245130.0      6502500.0   \n",
       "\n",
       "   sqft_living sqft_lot  sqft_living sqft_above  sqft_living sqft_basement  \\\n",
       "0            18408510.0               4284900.0                        0.0   \n",
       "1            19517000.0               5307000.0                  3103000.0   \n",
       "2            41066610.0              14212900.0                        0.0   \n",
       "3            66612480.0              20793600.0                        0.0   \n",
       "4            13708800.0               6502500.0                        0.0   \n",
       "\n",
       "   sqft_living yr_built  sqft_living sqft_living15  sqft_living sqft_lot15  \\\n",
       "0             4111020.0                  4947300.0              15939000.0   \n",
       "1             5733300.0                  6873000.0              18220700.0   \n",
       "2             7528690.0                 13986700.0              36512450.0   \n",
       "3             9074400.0                 18468000.0              64870560.0   \n",
       "4             5110200.0                  5737500.0              10327500.0   \n",
       "\n",
       "   sqft_living floors  sqft_living waterfront  sqft_living view  \\\n",
       "0              4140.0                     0.0               0.0   \n",
       "1              2900.0                     0.0               0.0   \n",
       "2              7540.0                     0.0            7540.0   \n",
       "3              9120.0                     0.0            9120.0   \n",
       "4              5100.0                     0.0               0.0   \n",
       "\n",
       "   sqft_living condition  sqft_living grade  sqft_living yr_renovated  \\\n",
       "0                 8280.0            16560.0                       0.0   \n",
       "1                14500.0            23200.0                       0.0   \n",
       "2                11310.0            41470.0                       0.0   \n",
       "3                13680.0            54720.0                       0.0   \n",
       "4                 7650.0            22950.0                       0.0   \n",
       "\n",
       "   sqft_living zipcode   sqft_lot^2  sqft_lot sqft_above  \\\n",
       "0          202980060.0   79085449.0           18408510.0   \n",
       "1          284533500.0   45292900.0           12315900.0   \n",
       "2          369482620.0  118657449.0           41066610.0   \n",
       "3          447035040.0  213393664.0           66612480.0   \n",
       "4          250032600.0   28901376.0           13708800.0   \n",
       "\n",
       "   sqft_lot sqft_basement  sqft_lot yr_built  sqft_lot sqft_living15  \\\n",
       "0                     0.0         17661498.0              21254270.0   \n",
       "1               7201100.0         13305210.0              15950100.0   \n",
       "2                     0.0         21753321.0              40413030.0   \n",
       "3                     0.0         29069920.0              59162400.0   \n",
       "4                     0.0         10773504.0              12096000.0   \n",
       "\n",
       "   sqft_lot sqft_lot15  sqft_lot floors  sqft_lot waterfront  sqft_lot view  \\\n",
       "0           68476100.0          17786.0                  0.0            0.0   \n",
       "1           42284590.0           6730.0                  0.0            0.0   \n",
       "2          105498705.0          21786.0                  0.0        21786.0   \n",
       "3          207813408.0          29216.0                  0.0        29216.0   \n",
       "4           21772800.0          10752.0                  0.0            0.0   \n",
       "\n",
       "   sqft_lot condition  sqft_lot grade  sqft_lot yr_renovated  \\\n",
       "0             35572.0         71144.0                    0.0   \n",
       "1             33650.0         53840.0                    0.0   \n",
       "2             32679.0        119823.0                    0.0   \n",
       "3             43824.0        175296.0                    0.0   \n",
       "4             16128.0         48384.0                    0.0   \n",
       "\n",
       "   sqft_lot zipcode  sqft_above^2  sqft_above sqft_basement  \\\n",
       "0      8.720298e+08     4284900.0                       0.0   \n",
       "1      6.603140e+08     3348900.0                 1958100.0   \n",
       "2      1.067579e+09    14212900.0                       0.0   \n",
       "3      1.432081e+09    20793600.0                       0.0   \n",
       "4      5.271276e+08     6502500.0                       0.0   \n",
       "\n",
       "   sqft_above yr_built  sqft_above sqft_living15  sqft_above sqft_lot15  \\\n",
       "0            4111020.0                 4947300.0             15939000.0   \n",
       "1            3617910.0                 4337100.0             11497890.0   \n",
       "2            7528690.0                13986700.0             36512450.0   \n",
       "3            9074400.0                18468000.0             64870560.0   \n",
       "4            5110200.0                 5737500.0             10327500.0   \n",
       "\n",
       "   sqft_above floors  sqft_above waterfront  sqft_above view  \\\n",
       "0             4140.0                    0.0              0.0   \n",
       "1             1830.0                    0.0              0.0   \n",
       "2             7540.0                    0.0           7540.0   \n",
       "3             9120.0                    0.0           9120.0   \n",
       "4             5100.0                    0.0              0.0   \n",
       "\n",
       "   sqft_above condition  sqft_above grade  sqft_above yr_renovated  \\\n",
       "0                8280.0           16560.0                      0.0   \n",
       "1                9150.0           14640.0                      0.0   \n",
       "2               11310.0           41470.0                      0.0   \n",
       "3               13680.0           54720.0                      0.0   \n",
       "4                7650.0           22950.0                      0.0   \n",
       "\n",
       "   sqft_above zipcode  sqft_basement^2  sqft_basement yr_built  \\\n",
       "0         202980060.0              0.0                     0.0   \n",
       "1         179550450.0        1144900.0               2115390.0   \n",
       "2         369482620.0              0.0                     0.0   \n",
       "3         447035040.0              0.0                     0.0   \n",
       "4         250032600.0              0.0                     0.0   \n",
       "\n",
       "   sqft_basement sqft_living15  sqft_basement sqft_lot15  \\\n",
       "0                          0.0                       0.0   \n",
       "1                    2535900.0                 6722810.0   \n",
       "2                          0.0                       0.0   \n",
       "3                          0.0                       0.0   \n",
       "4                          0.0                       0.0   \n",
       "\n",
       "   sqft_basement floors  sqft_basement waterfront  sqft_basement view  \\\n",
       "0                   0.0                       0.0                 0.0   \n",
       "1                1070.0                       0.0                 0.0   \n",
       "2                   0.0                       0.0                 0.0   \n",
       "3                   0.0                       0.0                 0.0   \n",
       "4                   0.0                       0.0                 0.0   \n",
       "\n",
       "   sqft_basement condition  sqft_basement grade  sqft_basement yr_renovated  \\\n",
       "0                      0.0                  0.0                         0.0   \n",
       "1                   5350.0               8560.0                         0.0   \n",
       "2                      0.0                  0.0                         0.0   \n",
       "3                      0.0                  0.0                         0.0   \n",
       "4                      0.0                  0.0                         0.0   \n",
       "\n",
       "   sqft_basement zipcode  yr_built^2  yr_built sqft_living15  \\\n",
       "0                    0.0   3944196.0               4746540.0   \n",
       "1            104983050.0   3908529.0               4685490.0   \n",
       "2                    0.0   3988009.0               7408870.0   \n",
       "3                    0.0   3960100.0               8059500.0   \n",
       "4                    0.0   4016016.0               4509000.0   \n",
       "\n",
       "   yr_built sqft_lot15  yr_built floors  yr_built waterfront  yr_built view  \\\n",
       "0           15292200.0           3972.0                  0.0            0.0   \n",
       "1           12421491.0           1977.0                  0.0            0.0   \n",
       "2           19340945.0           3994.0                  0.0         3994.0   \n",
       "3           28309740.0           3980.0                  0.0         3980.0   \n",
       "4            8116200.0           4008.0                  0.0            0.0   \n",
       "\n",
       "   yr_built condition  yr_built grade  yr_built yr_renovated  \\\n",
       "0              7944.0         15888.0                    0.0   \n",
       "1              9885.0         15816.0                    0.0   \n",
       "2              5991.0         21967.0                    0.0   \n",
       "3              5970.0         23880.0                    0.0   \n",
       "4              6012.0         18036.0                    0.0   \n",
       "\n",
       "   yr_built zipcode  sqft_living15^2  sqft_living15 sqft_lot15  \\\n",
       "0       194743188.0        5712100.0                18403000.0   \n",
       "1       193973355.0        5616900.0                14890710.0   \n",
       "2       195717982.0       13764100.0                35931350.0   \n",
       "3       195087660.0       16402500.0                57615300.0   \n",
       "4       196496208.0        5062500.0                 9112500.0   \n",
       "\n",
       "   sqft_living15 floors  sqft_living15 waterfront  sqft_living15 view  \\\n",
       "0                4780.0                       0.0                 0.0   \n",
       "1                2370.0                       0.0                 0.0   \n",
       "2                7420.0                       0.0              7420.0   \n",
       "3                8100.0                       0.0              8100.0   \n",
       "4                4500.0                       0.0                 0.0   \n",
       "\n",
       "   sqft_living15 condition  sqft_living15 grade  sqft_living15 yr_renovated  \\\n",
       "0                   9560.0              19120.0                         0.0   \n",
       "1                  11850.0              18960.0                         0.0   \n",
       "2                  11130.0              40810.0                         0.0   \n",
       "3                  12150.0              48600.0                         0.0   \n",
       "4                   6750.0              20250.0                         0.0   \n",
       "\n",
       "   sqft_living15 zipcode  sqft_lot15^2  sqft_lot15 floors  \\\n",
       "0            234358620.0    59290000.0            15400.0   \n",
       "1            232532550.0    39476089.0             6283.0   \n",
       "2            363602260.0    93799225.0            19370.0   \n",
       "3            397037700.0   202379076.0            28452.0   \n",
       "4            220617000.0    16402500.0             8100.0   \n",
       "\n",
       "   sqft_lot15 waterfront  sqft_lot15 view  sqft_lot15 condition  \\\n",
       "0                    0.0              0.0               30800.0   \n",
       "1                    0.0              0.0               31415.0   \n",
       "2                    0.0          19370.0               29055.0   \n",
       "3                    0.0          28452.0               42678.0   \n",
       "4                    0.0              0.0               12150.0   \n",
       "\n",
       "   sqft_lot15 grade  sqft_lot15 yr_renovated  sqft_lot15 zipcode  floors^2  \\\n",
       "0           61600.0                      0.0        7.550466e+08       4.0   \n",
       "1           50264.0                      0.0        6.164565e+08       1.0   \n",
       "2          106535.0                      0.0        9.491881e+08       4.0   \n",
       "3          170712.0                      0.0        1.394632e+09       4.0   \n",
       "4           36450.0                      0.0        3.971106e+08       4.0   \n",
       "\n",
       "   floors waterfront  floors view  floors condition  floors grade  \\\n",
       "0                0.0          0.0               8.0          16.0   \n",
       "1                0.0          0.0               5.0           8.0   \n",
       "2                0.0          4.0               6.0          22.0   \n",
       "3                0.0          4.0               6.0          24.0   \n",
       "4                0.0          0.0               6.0          18.0   \n",
       "\n",
       "   floors yr_renovated  floors zipcode  waterfront^2  waterfront view  \\\n",
       "0                  0.0        196116.0           0.0              0.0   \n",
       "1                  0.0         98115.0           0.0              0.0   \n",
       "2                  0.0        196012.0           0.0              0.0   \n",
       "3                  0.0        196068.0           0.0              0.0   \n",
       "4                  0.0        196104.0           0.0              0.0   \n",
       "\n",
       "   waterfront condition  waterfront grade  waterfront yr_renovated  \\\n",
       "0                   0.0               0.0                      0.0   \n",
       "1                   0.0               0.0                      0.0   \n",
       "2                   0.0               0.0                      0.0   \n",
       "3                   0.0               0.0                      0.0   \n",
       "4                   0.0               0.0                      0.0   \n",
       "\n",
       "   waterfront zipcode  view^2  view condition  view grade  view yr_renovated  \\\n",
       "0                 0.0     0.0             0.0         0.0                0.0   \n",
       "1                 0.0     0.0             0.0         0.0                0.0   \n",
       "2                 0.0     4.0             6.0        22.0                0.0   \n",
       "3                 0.0     4.0             6.0        24.0                0.0   \n",
       "4                 0.0     0.0             0.0         0.0                0.0   \n",
       "\n",
       "   view zipcode  condition^2  condition grade  condition yr_renovated  \\\n",
       "0           0.0         16.0             32.0                     0.0   \n",
       "1           0.0         25.0             40.0                     0.0   \n",
       "2      196012.0          9.0             33.0                     0.0   \n",
       "3      196068.0          9.0             36.0                     0.0   \n",
       "4           0.0          9.0             27.0                     0.0   \n",
       "\n",
       "   condition zipcode  grade^2  grade yr_renovated  grade zipcode  \\\n",
       "0           392232.0     64.0                 0.0       784464.0   \n",
       "1           490575.0     64.0                 0.0       784920.0   \n",
       "2           294018.0    121.0                 0.0      1078066.0   \n",
       "3           294102.0    144.0                 0.0      1176408.0   \n",
       "4           294156.0     81.0                 0.0       882468.0   \n",
       "\n",
       "   yr_renovated^2  yr_renovated zipcode     zipcode^2  \n",
       "0             0.0                   0.0  9.615371e+09  \n",
       "1             0.0                   0.0  9.626553e+09  \n",
       "2             0.0                   0.0  9.605176e+09  \n",
       "3             0.0                   0.0  9.610665e+09  \n",
       "4             0.0                   0.0  9.614195e+09  "
      ]
     },
     "execution_count": 23,
     "metadata": {},
     "output_type": "execute_result"
    }
   ],
   "source": [
    "poly_data = poly.fit_transform(df_features)\n",
    "poly_columns = poly.get_feature_names(df_features.columns)\n",
    "df_poly = pd.DataFrame(poly_data, columns=poly_columns)\n",
    "df_poly.head()"
   ]
  },
  {
   "cell_type": "markdown",
   "metadata": {},
   "source": [
    "# Feature Selection Lecture"
   ]
  },
  {
   "cell_type": "code",
   "execution_count": 24,
   "metadata": {},
   "outputs": [],
   "source": [
    "data['month_sold'] = data['date'].apply(lambda x: int(x[4:6]))\n",
    "data['yr_sold'] = data['date'].apply(lambda x: int(x[:4]))\n",
    "data['yr_since_reno'] = data['yr_sold'] - data['yr_renovated']"
   ]
  },
  {
   "cell_type": "code",
   "execution_count": 25,
   "metadata": {},
   "outputs": [
    {
     "name": "stdout",
     "output_type": "stream",
     "text": [
      "Index(['date', 'price', 'bedrooms', 'bathrooms', 'sqft_living', 'sqft_lot',\n",
      "       'floors', 'waterfront', 'view', 'condition', 'grade', 'sqft_above',\n",
      "       'sqft_basement', 'yr_built', 'yr_renovated', 'zipcode', 'lat', 'long',\n",
      "       'sqft_living15', 'sqft_lot15', 'month_sold', 'yr_sold',\n",
      "       'yr_since_reno'],\n",
      "      dtype='object')\n",
      "23\n"
     ]
    }
   ],
   "source": [
    "print(data.columns)\n",
    "print(len(data.columns))"
   ]
  },
  {
   "cell_type": "code",
   "execution_count": 26,
   "metadata": {},
   "outputs": [],
   "source": [
    "features_eng = ['bedrooms', 'bathrooms', 'sqft_living', 'sqft_lot',\n",
    "       'floors', 'waterfront', 'view', 'condition', 'grade', 'sqft_above',\n",
    "       'sqft_basement', 'yr_built', 'yr_renovated', 'zipcode', 'lat', 'long',\n",
    "       'sqft_living15', 'sqft_lot15', 'month_sold', 'yr_sold',\n",
    "       'yr_since_reno']\n",
    "\n",
    "df_features = data[features_eng]\n",
    "target = data['price']\n",
    "X_train, X_test, y_train, y_test = train_test_split(df_features, target, random_state=88)"
   ]
  },
  {
   "cell_type": "code",
   "execution_count": 27,
   "metadata": {},
   "outputs": [
    {
     "name": "stdout",
     "output_type": "stream",
     "text": [
      "Lm Model Training RMSE:  208058.1308817997\n"
     ]
    }
   ],
   "source": [
    "lm = LinearRegression()\n",
    "lm = lm.fit(X_train, y_train)\n",
    "y_train_pred = lm.predict(X_train)\n",
    "train_rmse = np.sqrt(metrics.mean_squared_error(y_train, y_train_pred))\n",
    "print('Lm Model Training RMSE: ', train_rmse)"
   ]
  },
  {
   "cell_type": "code",
   "execution_count": null,
   "metadata": {},
   "outputs": [],
   "source": []
  },
  {
   "cell_type": "markdown",
   "metadata": {},
   "source": [
    "## Log Model"
   ]
  },
  {
   "cell_type": "code",
   "execution_count": 28,
   "metadata": {},
   "outputs": [],
   "source": [
    "y_log = np.log(y_train)\n",
    "lr_log = LinearRegression()\n",
    "lr_log = lr_log.fit(X_train, y_log)\n",
    "log_train_pred = lr_log.predict(X_train)"
   ]
  },
  {
   "cell_type": "code",
   "execution_count": 29,
   "metadata": {},
   "outputs": [],
   "source": [
    "y_train_pred = np.exp(log_train_pred)"
   ]
  },
  {
   "cell_type": "code",
   "execution_count": 30,
   "metadata": {},
   "outputs": [
    {
     "name": "stdout",
     "output_type": "stream",
     "text": [
      "Log Model Training RMSE:  661691.7321091507\n"
     ]
    }
   ],
   "source": [
    "train_rmse = np.sqrt(metrics.mean_squared_error(y_train, log_train_pred))\n",
    "print('Log Model Training RMSE: ', train_rmse)"
   ]
  },
  {
   "cell_type": "code",
   "execution_count": 31,
   "metadata": {},
   "outputs": [
    {
     "name": "stdout",
     "output_type": "stream",
     "text": [
      "Log Model Test RMSE:  173425.13807976624\n"
     ]
    }
   ],
   "source": [
    "log_test_pred = lr_log.predict(X_test)\n",
    "log_test_pred = np.exp(log_test_pred)\n",
    "log_test_rmse = np.sqrt(metrics.mean_squared_error(y_test, log_test_pred))\n",
    "print('Log Model Test RMSE: ', log_test_rmse)"
   ]
  },
  {
   "cell_type": "code",
   "execution_count": null,
   "metadata": {},
   "outputs": [],
   "source": []
  },
  {
   "cell_type": "markdown",
   "metadata": {},
   "source": [
    "## Polynomial Models\n",
    "### 2nd Degree"
   ]
  },
  {
   "cell_type": "code",
   "execution_count": 32,
   "metadata": {},
   "outputs": [
    {
     "data": {
      "text/plain": [
       "(17290, 252)"
      ]
     },
     "execution_count": 32,
     "metadata": {},
     "output_type": "execute_result"
    }
   ],
   "source": [
    "poly_2 = PolynomialFeatures(degree=2, include_bias=False)\n",
    "poly2_data = poly_2.fit_transform(df_features)\n",
    "poly2_columns = poly_2.get_feature_names(df_features.columns)\n",
    "df_poly2 = pd.DataFrame(poly2_data, columns=poly2_columns)\n",
    "df_poly2.shape"
   ]
  },
  {
   "cell_type": "code",
   "execution_count": 33,
   "metadata": {},
   "outputs": [],
   "source": [
    "X_train, X_test, y_train, y_test = train_test_split(df_poly2, target, random_state=88)"
   ]
  },
  {
   "cell_type": "code",
   "execution_count": 34,
   "metadata": {},
   "outputs": [
    {
     "name": "stdout",
     "output_type": "stream",
     "text": [
      "Poly Model Training RMSE:  152923.5637935754\n"
     ]
    }
   ],
   "source": [
    "lr_poly = LinearRegression()\n",
    "lr_poly = lr_poly.fit(X_train, y_train)\n",
    "y_train_pred = lr_poly.predict(X_train)\n",
    "train_rmse = np.sqrt(metrics.mean_squared_error(y_train, y_train_pred))\n",
    "print('Poly Model Training RMSE: ', train_rmse)"
   ]
  },
  {
   "cell_type": "code",
   "execution_count": 35,
   "metadata": {},
   "outputs": [
    {
     "name": "stdout",
     "output_type": "stream",
     "text": [
      "Poly Model Test RMSE:  151696.69528020683\n"
     ]
    }
   ],
   "source": [
    "y_pred = lr_poly.predict(X_test)\n",
    "test_rmse = np.sqrt(metrics.mean_squared_error(y_test, y_pred))\n",
    "print('Poly Model Test RMSE: ', test_rmse)"
   ]
  },
  {
   "cell_type": "code",
   "execution_count": null,
   "metadata": {},
   "outputs": [],
   "source": []
  },
  {
   "cell_type": "markdown",
   "metadata": {},
   "source": [
    "## Baseline"
   ]
  },
  {
   "cell_type": "code",
   "execution_count": 36,
   "metadata": {},
   "outputs": [],
   "source": [
    "# features = ['bedrooms', 'bathrooms', 'sqft_living',\n",
    "#        'sqft_lot', 'floors', 'waterfront', 'view', 'condition', 'grade',\n",
    "#        'sqft_above', 'sqft_basement', 'yr_built', 'yr_renovated', 'zipcode',\n",
    "#        'lat', 'long', 'sqft_living15', 'sqft_lot15']\n",
    "\n",
    "features_eng = ['bedrooms', 'bathrooms', 'sqft_living', 'sqft_lot',\n",
    "       'floors', 'waterfront', 'view', 'condition', 'grade', 'sqft_above',\n",
    "       'sqft_basement', 'yr_built', 'yr_renovated', 'zipcode', 'lat', 'long',\n",
    "       'sqft_living15', 'sqft_lot15', 'month_sold', 'yr_sold',\n",
    "       'yr_since_reno']\n",
    "\n",
    "df_features = data[features_eng]\n",
    "target = data['price']\n",
    "X_train, X_test, y_train, y_test = train_test_split(df_features, target, random_state=88)"
   ]
  },
  {
   "cell_type": "code",
   "execution_count": 37,
   "metadata": {},
   "outputs": [],
   "source": [
    "scaler = StandardScaler()\n",
    "scaler.fit(X_train)\n",
    "X_train = pd.DataFrame(data=scaler.transform(X_train), columns=df_features.columns)\n",
    "X_test = pd.DataFrame(data=scaler.transform(X_test), columns=df_features.columns)"
   ]
  },
  {
   "cell_type": "code",
   "execution_count": 38,
   "metadata": {},
   "outputs": [
    {
     "name": "stdout",
     "output_type": "stream",
     "text": [
      "Baseline Model Training RMSE:  208058.13088179976\n"
     ]
    }
   ],
   "source": [
    "baseline = LinearRegression()\n",
    "baseline = baseline.fit(X_train, y_train)\n",
    "y_train_pred = baseline.predict(X_train)\n",
    "train_rmse = np.sqrt(metrics.mean_squared_error(y_train, y_train_pred))\n",
    "print('Baseline Model Training RMSE: ', train_rmse)"
   ]
  },
  {
   "cell_type": "code",
   "execution_count": 39,
   "metadata": {},
   "outputs": [
    {
     "name": "stdout",
     "output_type": "stream",
     "text": [
      "Baseline Model Test RMSE:  194398.76892520243\n"
     ]
    }
   ],
   "source": [
    "y_test_pred = baseline.predict(X_test)\n",
    "test_rmse = np.sqrt(metrics.mean_squared_error(y_test, y_test_pred))\n",
    "print('Baseline Model Test RMSE: ', test_rmse)"
   ]
  },
  {
   "cell_type": "code",
   "execution_count": 40,
   "metadata": {},
   "outputs": [
    {
     "data": {
      "text/plain": [
       "0.6974445894340684"
      ]
     },
     "execution_count": 40,
     "metadata": {},
     "output_type": "execute_result"
    }
   ],
   "source": [
    "metrics.r2_score(y_test, y_test_pred)"
   ]
  },
  {
   "cell_type": "markdown",
   "metadata": {},
   "source": [
    "### 3rd Degree"
   ]
  },
  {
   "cell_type": "code",
   "execution_count": 41,
   "metadata": {},
   "outputs": [
    {
     "data": {
      "text/plain": [
       "(17290, 2023)"
      ]
     },
     "execution_count": 41,
     "metadata": {},
     "output_type": "execute_result"
    }
   ],
   "source": [
    "poly_3 = PolynomialFeatures(degree=3, include_bias=False)\n",
    "poly3_data = poly_3.fit_transform(df_features)\n",
    "poly3_columns = poly_3.get_feature_names(df_features.columns)\n",
    "df_poly3 = pd.DataFrame(poly3_data, columns=poly3_columns)\n",
    "df_poly3.shape"
   ]
  },
  {
   "cell_type": "code",
   "execution_count": 42,
   "metadata": {},
   "outputs": [],
   "source": [
    "X_train, X_test, y_train, y_test = train_test_split(df_poly3, target, random_state=88)"
   ]
  },
  {
   "cell_type": "code",
   "execution_count": 43,
   "metadata": {},
   "outputs": [],
   "source": [
    "scaler3 = StandardScaler()\n",
    "scaler3.fit(X_train)\n",
    "X_train = pd.DataFrame(data=scaler3.transform(X_train), columns=df_poly3.columns)\n",
    "X_test = pd.DataFrame(data=scaler3.transform(X_test), columns=df_poly3.columns)"
   ]
  },
  {
   "cell_type": "code",
   "execution_count": 44,
   "metadata": {},
   "outputs": [
    {
     "name": "stdout",
     "output_type": "stream",
     "text": [
      "Poly 3 Model Training RMSE:  105609.97371054329\n"
     ]
    }
   ],
   "source": [
    "lr_poly3 = LinearRegression()\n",
    "lr_poly3 = lr_poly3.fit(X_train, y_train)\n",
    "y_train_pred = lr_poly3.predict(X_train)\n",
    "train_rmse = np.sqrt(metrics.mean_squared_error(y_train, y_train_pred))\n",
    "print('Poly 3 Model Training RMSE: ', train_rmse)"
   ]
  },
  {
   "cell_type": "code",
   "execution_count": 45,
   "metadata": {},
   "outputs": [
    {
     "name": "stdout",
     "output_type": "stream",
     "text": [
      "Poly 3 Model Test RMSE:  30850402627237.008\n"
     ]
    }
   ],
   "source": [
    "y_pred = lr_poly3.predict(X_test)\n",
    "test_rmse = np.sqrt(metrics.mean_squared_error(y_test, y_pred))\n",
    "print('Poly 3 Model Test RMSE: ', test_rmse)"
   ]
  },
  {
   "cell_type": "markdown",
   "metadata": {},
   "source": [
    "### Kbest"
   ]
  },
  {
   "cell_type": "code",
   "execution_count": 46,
   "metadata": {},
   "outputs": [
    {
     "data": {
      "text/plain": [
       "SelectKBest(k=130, score_func=<function f_regression at 0x7f8a3a5abd90>)"
      ]
     },
     "execution_count": 46,
     "metadata": {},
     "output_type": "execute_result"
    }
   ],
   "source": [
    "selector = SelectKBest(f_regression, k=130)\n",
    "selector.fit(X_train, y_train)"
   ]
  },
  {
   "cell_type": "code",
   "execution_count": 47,
   "metadata": {},
   "outputs": [],
   "source": [
    "selected_columns = X_train.columns[selector.get_support()]"
   ]
  },
  {
   "cell_type": "code",
   "execution_count": 48,
   "metadata": {},
   "outputs": [
    {
     "name": "stdout",
     "output_type": "stream",
     "text": [
      "Kbest Train RMSE:  160930.96457839923\n"
     ]
    }
   ],
   "source": [
    "lr_kbest = LinearRegression()\n",
    "lr_kbest = lr_kbest.fit(X_train[selected_columns], y_train)\n",
    "y_train_kbest = lr_kbest.predict(X_train[selected_columns])\n",
    "train_k_rmse = np.sqrt(metrics.mean_squared_error(y_train, y_train_kbest))\n",
    "print('Kbest Train RMSE: ', train_k_rmse)"
   ]
  },
  {
   "cell_type": "code",
   "execution_count": 49,
   "metadata": {},
   "outputs": [
    {
     "name": "stdout",
     "output_type": "stream",
     "text": [
      "Kbest Test RMSE:  164606.53616128353\n"
     ]
    }
   ],
   "source": [
    "y_kbest = lr_kbest.predict(X_test[selected_columns])\n",
    "\n",
    "test_k_rmse = np.sqrt(metrics.mean_squared_error(y_test, y_kbest))\n",
    "\n",
    "print('Kbest Test RMSE: ' , test_k_rmse)"
   ]
  },
  {
   "cell_type": "markdown",
   "metadata": {},
   "source": [
    "### RFE"
   ]
  },
  {
   "cell_type": "code",
   "execution_count": 50,
   "metadata": {},
   "outputs": [],
   "source": [
    "from sklearn.feature_selection import RFECV\n",
    "ols = linear_model.LinearRegression()"
   ]
  },
  {
   "cell_type": "code",
   "execution_count": 51,
   "metadata": {},
   "outputs": [],
   "source": [
    "# reverting back to 2nd degree poly as it gave the best test RMSE\n",
    "X_train, X_test, y_train, y_test = train_test_split(df_poly2, target, random_state=88)\n",
    "scaler2 = StandardScaler()\n",
    "scaler2.fit(X_train)\n",
    "X_train = pd.DataFrame(data=scaler2.transform(X_train), columns=df_poly2.columns)\n",
    "X_test = pd.DataFrame(data=scaler2.transform(X_test), columns=df_poly2.columns)"
   ]
  },
  {
   "cell_type": "code",
   "execution_count": 52,
   "metadata": {},
   "outputs": [
    {
     "name": "stdout",
     "output_type": "stream",
     "text": [
      "Poly Model Training RMSE:  152748.8158005059\n"
     ]
    }
   ],
   "source": [
    "lr_poly = LinearRegression()\n",
    "lr_poly = lr_poly.fit(X_train, y_train)\n",
    "y_train_pred = lr_poly.predict(X_train)\n",
    "train_rmse = np.sqrt(metrics.mean_squared_error(y_train, y_train_pred))\n",
    "print('Poly Model Training RMSE: ', train_rmse)"
   ]
  },
  {
   "cell_type": "code",
   "execution_count": 53,
   "metadata": {},
   "outputs": [
    {
     "data": {
      "text/plain": [
       "RFECV(cv=5,\n",
       "      estimator=LinearRegression(copy_X=True, fit_intercept=True, n_jobs=None,\n",
       "                                 normalize=False),\n",
       "      min_features_to_select=1, n_jobs=-1, scoring='neg_mean_squared_error',\n",
       "      step=1, verbose=0)"
      ]
     },
     "execution_count": 53,
     "metadata": {},
     "output_type": "execute_result"
    }
   ],
   "source": [
    "selector = RFECV(estimator=ols, step=1, cv=5, scoring='neg_mean_squared_error', n_jobs=-1)\n",
    "selector.fit(X_train, y_train)"
   ]
  },
  {
   "cell_type": "code",
   "execution_count": 54,
   "metadata": {},
   "outputs": [
    {
     "data": {
      "text/plain": [
       "156"
      ]
     },
     "execution_count": 54,
     "metadata": {},
     "output_type": "execute_result"
    }
   ],
   "source": [
    "selected_rfe = X_train.columns[selector.support_]\n",
    "len(list(selected_rfe))"
   ]
  },
  {
   "cell_type": "code",
   "execution_count": 55,
   "metadata": {},
   "outputs": [
    {
     "name": "stdout",
     "output_type": "stream",
     "text": [
      "Training Root Mean Squared Error: 155193.16241502843\n",
      "Testing Root Mean Squared Error: 153085.50612151614\n"
     ]
    }
   ],
   "source": [
    "#instantiate a linear regression object\n",
    "lm_rfe = LinearRegression()\n",
    "\n",
    "#fit the linear regression to the data\n",
    "lm_rfe = lm_rfe.fit(X_train[selected_rfe], y_train)\n",
    "\n",
    "y_rfe = lm_rfe.predict(X_train[selected_rfe])\n",
    "\n",
    "\n",
    "trainRFE_rmse = np.sqrt(metrics.mean_squared_error(y_train, y_rfe))\n",
    "\n",
    "\n",
    "print('Training Root Mean Squared Error:' , trainRFE_rmse)\n",
    "\n",
    "y_pred_rfe = lm_rfe.predict(X_test[selected_rfe])\n",
    "\n",
    "testRFE_rmse = np.sqrt(metrics.mean_squared_error(y_test, y_pred_rfe))\n",
    "\n",
    "print('Testing Root Mean Squared Error:' , testRFE_rmse)\n"
   ]
  },
  {
   "cell_type": "code",
   "execution_count": null,
   "metadata": {},
   "outputs": [],
   "source": []
  }
 ],
 "metadata": {
  "kernelspec": {
   "display_name": "Python 3",
   "language": "python",
   "name": "python3"
  },
  "language_info": {
   "codemirror_mode": {
    "name": "ipython",
    "version": 3
   },
   "file_extension": ".py",
   "mimetype": "text/x-python",
   "name": "python",
   "nbconvert_exporter": "python",
   "pygments_lexer": "ipython3",
   "version": "3.6.9"
  }
 },
 "nbformat": 4,
 "nbformat_minor": 4
}
